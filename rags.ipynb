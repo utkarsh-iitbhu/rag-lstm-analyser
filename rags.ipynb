{
 "cells": [
  {
   "cell_type": "markdown",
   "metadata": {},
   "source": [
    "### Load the libraries"
   ]
  },
  {
   "cell_type": "code",
   "execution_count": 7,
   "metadata": {},
   "outputs": [],
   "source": [
    "import os\n",
    "import pinecone\n",
    "from dotenv import load_dotenv\n",
    "from langchain.prompts import PromptTemplate\n",
    "from langchain_openai import ChatOpenAI\n",
    "from langchain.chains import RetrievalQA\n",
    "from langchain_pinecone import Pinecone\n",
    "from langchain.document_loaders import PyPDFLoader, DirectoryLoader, CSVLoader\n",
    "from langchain.text_splitter import RecursiveCharacterTextSplitter\n",
    "from langchain.embeddings import OpenAIEmbeddings"
   ]
  },
  {
   "cell_type": "markdown",
   "metadata": {},
   "source": [
    "### Defining the env variables"
   ]
  },
  {
   "cell_type": "code",
   "execution_count": 8,
   "metadata": {},
   "outputs": [],
   "source": [
    "load_dotenv()\n",
    "KEY = os.getenv(\"OPENAI_API_KEY\")\n",
    "PINECONE_API_KEY=os.getenv(\"PINECONE_API_KEY\")\n",
    "PINECONE_API_ENV=os.getenv(\"PINECONE_API_ENV\")\n",
    "INDEXNAME=os.getenv(\"INDEXNAME\")"
   ]
  },
  {
   "cell_type": "markdown",
   "metadata": {},
   "source": [
    "### Initialising the llm "
   ]
  },
  {
   "cell_type": "code",
   "execution_count": 9,
   "metadata": {},
   "outputs": [],
   "source": [
    "llm =  ChatOpenAI(openai_api_key=KEY,model_name='gpt-4o-mini')"
   ]
  },
  {
   "cell_type": "markdown",
   "metadata": {},
   "source": [
    "### Loading the data to get the embeddings"
   ]
  },
  {
   "cell_type": "code",
   "execution_count": 10,
   "metadata": {},
   "outputs": [],
   "source": [
    "def load_csv(data_dir):\n",
    "    documents = []\n",
    "    csv_files = [f for f in os.listdir(data_dir) if f.endswith('.csv')]\n",
    "    for csv_file in csv_files:\n",
    "        csv_path = os.path.join(data_dir, csv_file)\n",
    "        csv_loader = CSVLoader(csv_path)\n",
    "        csv_documents = csv_loader.load()\n",
    "        documents.extend(csv_documents)\n",
    "    return documents"
   ]
  },
  {
   "cell_type": "markdown",
   "metadata": {},
   "source": [
    "### Fetching the csv files from the data dir | create a folder named data "
   ]
  },
  {
   "cell_type": "code",
   "execution_count": 13,
   "metadata": {},
   "outputs": [],
   "source": [
    "file_path = \"data\"\n",
    "extracted_data = load_csv(file_path)"
   ]
  },
  {
   "cell_type": "markdown",
   "metadata": {},
   "source": [
    "### Creating splits in data to create the chunks for embeddings"
   ]
  },
  {
   "cell_type": "code",
   "execution_count": 14,
   "metadata": {},
   "outputs": [
    {
     "name": "stdout",
     "output_type": "stream",
     "text": [
      "14634\n"
     ]
    }
   ],
   "source": [
    "# Create text chunks\n",
    "def text_split(extracted_data):\n",
    "    text_splitter = RecursiveCharacterTextSplitter(chunk_size=1000,chunk_overlap=20)\n",
    "    text_chunks = text_splitter.split_documents(extracted_data)\n",
    "    return text_chunks\n",
    "text_chunks = text_split(extracted_data)\n",
    "print(len(text_chunks))"
   ]
  },
  {
   "cell_type": "markdown",
   "metadata": {},
   "source": [
    "### Calling the OpenAI embeddings"
   ]
  },
  {
   "cell_type": "code",
   "execution_count": 15,
   "metadata": {},
   "outputs": [
    {
     "name": "stderr",
     "output_type": "stream",
     "text": [
      "/var/folders/m3/8sv2nfbd62z472xt2l1f8tdh0000gp/T/ipykernel_23553/1643301813.py:1: LangChainDeprecationWarning: The class `OpenAIEmbeddings` was deprecated in LangChain 0.0.9 and will be removed in 1.0. An updated version of the class exists in the :class:`~langchain-openai package and should be used instead. To use it run `pip install -U :class:`~langchain-openai` and import as `from :class:`~langchain_openai import OpenAIEmbeddings``.\n",
      "  embedding = OpenAIEmbeddings()\n"
     ]
    }
   ],
   "source": [
    "embedding = OpenAIEmbeddings()"
   ]
  },
  {
   "cell_type": "markdown",
   "metadata": {},
   "source": [
    "### Testing the embeddings"
   ]
  },
  {
   "cell_type": "code",
   "execution_count": 16,
   "metadata": {},
   "outputs": [
    {
     "name": "stdout",
     "output_type": "stream",
     "text": [
      "1536\n"
     ]
    }
   ],
   "source": [
    "query = embedding.embed_query(\"Hello World\")\n",
    "print(len(query))"
   ]
  },
  {
   "cell_type": "markdown",
   "metadata": {},
   "source": [
    "### Connecting to the Pinecone DB"
   ]
  },
  {
   "cell_type": "code",
   "execution_count": 17,
   "metadata": {},
   "outputs": [
    {
     "data": {
      "text/plain": [
       "<pinecone.data.index.Index at 0x12ebf9810>"
      ]
     },
     "execution_count": 17,
     "metadata": {},
     "output_type": "execute_result"
    }
   ],
   "source": [
    "pc = pinecone.Pinecone(api_key=PINECONE_API_KEY, environment=PINECONE_API_ENV)\n",
    "index_name = INDEXNAME\n",
    "# Connect to the index\n",
    "index = pc.Index(index_name)\n",
    "index"
   ]
  },
  {
   "cell_type": "markdown",
   "metadata": {},
   "source": [
    "### Generate and upsert the embeddings"
   ]
  },
  {
   "cell_type": "code",
   "execution_count": 18,
   "metadata": {},
   "outputs": [
    {
     "data": {
      "text/plain": [
       "'\\n# Generate and upsert embeddings with metadata\\nvectors = []\\nfor i, chunk in enumerate(text_chunks):\\n    metadata = {\\n                \"source\": chunk.metadata.get(\"source\", \"\"),\\n                \"text\": chunk.page_content\\n            }\\n    vector = {\\n        \"id\": str(i),\\n        \"values\": embedding.embed_documents([chunk.page_content])[0],  # embed the chunk\\'s content\\n        \"metadata\": metadata\\n    }   \\n    vectors.append(vector)\\n\\n# Function to process documents in batches\\ndef batch(iterable, n=1):\\n    l = len(iterable)\\n    for ndx in range(0, l, n):\\n        yield iterable[ndx:min(ndx + n, l)]\\n\\n# Batch size (make sure it\\'s within the limit)\\nbatch_size = 100\\n\\n# Upsert vectors in batches\\nfor i, batch_vectors in enumerate(batch(vectors, batch_size)):\\n    try:\\n        index.upsert(vectors=batch_vectors)\\n        print(f\"Successfully upserted batch {i+1}\")\\n    except Exception as e:\\n        print(f\"Error in batch {i+1}: {e}\")\\n\\n'"
      ]
     },
     "execution_count": 18,
     "metadata": {},
     "output_type": "execute_result"
    }
   ],
   "source": [
    "'''\n",
    "# Generate and upsert embeddings with metadata\n",
    "vectors = []\n",
    "for i, chunk in enumerate(text_chunks):\n",
    "    metadata = {\n",
    "                \"source\": chunk.metadata.get(\"source\", \"\"),\n",
    "                \"text\": chunk.page_content\n",
    "            }\n",
    "    vector = {\n",
    "        \"id\": str(i),\n",
    "        \"values\": embedding.embed_documents([chunk.page_content])[0],  # embed the chunk's content\n",
    "        \"metadata\": metadata\n",
    "    }   \n",
    "    vectors.append(vector)\n",
    "\n",
    "# Function to process documents in batches\n",
    "def batch(iterable, n=1):\n",
    "    l = len(iterable)\n",
    "    for ndx in range(0, l, n):\n",
    "        yield iterable[ndx:min(ndx + n, l)]\n",
    "\n",
    "# Batch size (make sure it's within the limit)\n",
    "batch_size = 100\n",
    "\n",
    "# Upsert vectors in batches\n",
    "for i, batch_vectors in enumerate(batch(vectors, batch_size)):\n",
    "    try:\n",
    "        index.upsert(vectors=batch_vectors)\n",
    "        print(f\"Successfully upserted batch {i+1}\")\n",
    "    except Exception as e:\n",
    "        print(f\"Error in batch {i+1}: {e}\")\n",
    "\n",
    "'''\n",
    "# No need to run the embeddings as I have already created it in the pinecone so we just need to query on it "
   ]
  },
  {
   "cell_type": "markdown",
   "metadata": {},
   "source": [
    "### Using Pinecone wrapper via langchin "
   ]
  },
  {
   "cell_type": "code",
   "execution_count": 19,
   "metadata": {},
   "outputs": [
    {
     "name": "stderr",
     "output_type": "stream",
     "text": [
      "/var/folders/m3/8sv2nfbd62z472xt2l1f8tdh0000gp/T/ipykernel_23553/2666153010.py:2: LangChainDeprecationWarning: The class `Pinecone` was deprecated in LangChain 0.0.3 and will be removed in 1.0.0. Use :class:`~PineconeVectorStore` instead.\n",
      "  docsearch = Pinecone(index=index, embedding=embedding, text_key=\"text\")\n"
     ]
    }
   ],
   "source": [
    "# Initialize Langchain Pinecone wrapper\n",
    "docsearch = Pinecone(index=index, embedding=embedding, text_key=\"text\")"
   ]
  },
  {
   "cell_type": "markdown",
   "metadata": {},
   "source": [
    "### Test the similar embeddings"
   ]
  },
  {
   "cell_type": "code",
   "execution_count": 20,
   "metadata": {},
   "outputs": [
    {
     "name": "stdout",
     "output_type": "stream",
     "text": [
      "1536\n"
     ]
    }
   ],
   "source": [
    "query = embedding.embed_query(\"Hello World\")\n",
    "print(len(query))"
   ]
  },
  {
   "cell_type": "markdown",
   "metadata": {},
   "source": [
    "### Create a prompt for my llm "
   ]
  },
  {
   "cell_type": "code",
   "execution_count": 21,
   "metadata": {},
   "outputs": [],
   "source": [
    "#  Behavious for the llm to respond \n",
    "prompt_template = \"\"\"\n",
    "        Analyze the following product reviews and provide business insights. Focus on:\n",
    "        1. Overall sentiment and key themes\n",
    "        2. Common customer pain points\n",
    "        3. Positive aspects highlighted by customers\n",
    "        4. Potential areas for improvement\n",
    "        5. Business recommendations\n",
    "\n",
    "        Context: {context}\n",
    "        Question: {question} \n",
    "\n",
    "        Provide a detailed analysis with specific examples from the reviews.\n",
    "        \"\"\""
   ]
  },
  {
   "cell_type": "markdown",
   "metadata": {},
   "source": [
    "### Setting the parameters in the required format "
   ]
  },
  {
   "cell_type": "code",
   "execution_count": 22,
   "metadata": {},
   "outputs": [],
   "source": [
    "PROMPT = PromptTemplate(template=prompt_template, input_variables=[\"context\",\"question\"])\n",
    "chain_type_kwargs = {\"prompt\": PROMPT}"
   ]
  },
  {
   "cell_type": "markdown",
   "metadata": {},
   "source": [
    "### Retreival QA chain initialising (RAG)"
   ]
  },
  {
   "cell_type": "code",
   "execution_count": 23,
   "metadata": {},
   "outputs": [],
   "source": [
    "qa = RetrievalQA.from_chain_type(\n",
    "    llm=llm,\n",
    "    chain_type=\"stuff\",\n",
    "    retriever=docsearch.as_retriever(search_kwargs={'k':3}),\n",
    "    return_source_documents=True,\n",
    "    chain_type_kwargs=chain_type_kwargs,\n",
    ")"
   ]
  },
  {
   "cell_type": "markdown",
   "metadata": {},
   "source": [
    "### Testing the RAG model "
   ]
  },
  {
   "cell_type": "code",
   "execution_count": 24,
   "metadata": {},
   "outputs": [
    {
     "name": "stderr",
     "output_type": "stream",
     "text": [
      "/var/folders/m3/8sv2nfbd62z472xt2l1f8tdh0000gp/T/ipykernel_23553/2438225331.py:2: LangChainDeprecationWarning: The method `Chain.__call__` was deprecated in langchain 0.1.0 and will be removed in 1.0. Use :meth:`~invoke` instead.\n",
      "  result = qa({'query': user_input})\n"
     ]
    },
    {
     "data": {
      "text/plain": [
       "'Based on the provided product reviews, here\\'s a detailed analysis focusing on key insights related to overall sentiment, common pain points, positive aspects, areas for improvement, and business recommendations.\\n\\n### 1. Overall Sentiment and Key Themes\\nThe overall sentiment appears to be **positive**, with users expressing satisfaction with the product. Common themes include:\\n\\n- **Ease of Use**: Multiple reviewers noted that the laptops are user-friendly, suitable for middle schoolers and beginners.\\n- **Performance**: The performance is described as adequate for basic tasks like web browsing and running applications.\\n- **Portability**: The laptops are also highlighted for being lightweight and sleek.\\n\\n### 2. Common Customer Pain Points\\nThere are few notable pain points mentioned across the reviews:\\n\\n- **Speed Limitations**: Although the speed is generally described as \"average\" or \"decent,\" some users mentioned that restarting the laptop daily is necessary to maintain performance.\\n- **Camera Quality**: One reviewer highlighted that the camera quality was lacking, especially for video quality.\\n- **Limited Performance for Intensive Tasks**: While the laptops are adequate for basic tasks, they may struggle with more demanding applications due to their i3 processors.\\n\\n### 3. Positive Aspects Highlighted by Customers\\nCustomers appreciate the following aspects:\\n\\n- **User Experience**: The laptops are recognized as easy to set up, indicating that they are user-friendly, making them suitable for younger users and those less tech-savvy.\\n- **Expandability**: The ability to expand storage is praised, offering flexibility for users to tailor their device\\'s capacity to their needs.\\n- **Overall Design**: The sleek design and good monitor quality were noted as appealing features, contributing to a positive user experience.\\n- **Reliability**: The reviews convey a sense of reliability, with one user stating their child enjoys using it daily without any issues.\\n\\n### 4. Potential Areas for Improvement\\nThere are several areas where customers feel improvements could be made:\\n\\n- **Camera Quality**: Enhancing the camera and video quality could address customer concerns, especially for users relying on built-in cameras for video calls or online classes.\\n- **Speed Optimization**: Improving the speed, particularly when running multiple applications, could enhance user satisfaction. Better performance optimization could reduce the need for daily restarts.\\n- **Performance Upgrades**: Considering an upgrade beyond i3 processors could attract a wider audience, particularly college students or professionals needing more processing power.\\n\\n### 5. Business Recommendations\\nBased on the analysis, the following recommendations can be made:\\n\\n- **Targeted Marketing**: Position the product as an ideal choice for students, emphasizing ease of use, portability, and suitability for daily tasks in educational settings.\\n- **Product Improvements**: Invest in R&D aimed at improving camera technology and processor capabilities for future models to meet customer expectations and keep up with competitors.\\n- **Customer Engagement**: Actively seek and respond to customer feedback regarding both satisfaction and desired features. Offering customer service support for setup and common issues might enhance brand loyalty.\\n- **Bundled Offers**: Consider bundling accessories like external cameras or additional storage with the laptops to mitigate identified pain points and enhance the overall value offered to customers.\\n- **Educational Discounts**: Implement discounts or promotions targeted towards students and educational institutions to boost sales among college and middle school users.\\n\\nBy addressing these insights and recommendations, the business can improve its product offerings and better align with customer needs, ultimately driving sales and customer satisfaction.'"
      ]
     },
     "execution_count": 24,
     "metadata": {},
     "output_type": "execute_result"
    }
   ],
   "source": [
    "user_input = \"Best computer for college students?\" # USER \n",
    "result = qa({'query': user_input})\n",
    "result['result']"
   ]
  },
  {
   "cell_type": "markdown",
   "metadata": {},
   "source": [
    "### Find the contexts passed on to the llm"
   ]
  },
  {
   "cell_type": "code",
   "execution_count": 25,
   "metadata": {},
   "outputs": [
    {
     "data": {
      "text/plain": [
       "{'query': 'Best computer for college students?',\n",
       " 'result': 'Based on the provided product reviews, here\\'s a detailed analysis focusing on key insights related to overall sentiment, common pain points, positive aspects, areas for improvement, and business recommendations.\\n\\n### 1. Overall Sentiment and Key Themes\\nThe overall sentiment appears to be **positive**, with users expressing satisfaction with the product. Common themes include:\\n\\n- **Ease of Use**: Multiple reviewers noted that the laptops are user-friendly, suitable for middle schoolers and beginners.\\n- **Performance**: The performance is described as adequate for basic tasks like web browsing and running applications.\\n- **Portability**: The laptops are also highlighted for being lightweight and sleek.\\n\\n### 2. Common Customer Pain Points\\nThere are few notable pain points mentioned across the reviews:\\n\\n- **Speed Limitations**: Although the speed is generally described as \"average\" or \"decent,\" some users mentioned that restarting the laptop daily is necessary to maintain performance.\\n- **Camera Quality**: One reviewer highlighted that the camera quality was lacking, especially for video quality.\\n- **Limited Performance for Intensive Tasks**: While the laptops are adequate for basic tasks, they may struggle with more demanding applications due to their i3 processors.\\n\\n### 3. Positive Aspects Highlighted by Customers\\nCustomers appreciate the following aspects:\\n\\n- **User Experience**: The laptops are recognized as easy to set up, indicating that they are user-friendly, making them suitable for younger users and those less tech-savvy.\\n- **Expandability**: The ability to expand storage is praised, offering flexibility for users to tailor their device\\'s capacity to their needs.\\n- **Overall Design**: The sleek design and good monitor quality were noted as appealing features, contributing to a positive user experience.\\n- **Reliability**: The reviews convey a sense of reliability, with one user stating their child enjoys using it daily without any issues.\\n\\n### 4. Potential Areas for Improvement\\nThere are several areas where customers feel improvements could be made:\\n\\n- **Camera Quality**: Enhancing the camera and video quality could address customer concerns, especially for users relying on built-in cameras for video calls or online classes.\\n- **Speed Optimization**: Improving the speed, particularly when running multiple applications, could enhance user satisfaction. Better performance optimization could reduce the need for daily restarts.\\n- **Performance Upgrades**: Considering an upgrade beyond i3 processors could attract a wider audience, particularly college students or professionals needing more processing power.\\n\\n### 5. Business Recommendations\\nBased on the analysis, the following recommendations can be made:\\n\\n- **Targeted Marketing**: Position the product as an ideal choice for students, emphasizing ease of use, portability, and suitability for daily tasks in educational settings.\\n- **Product Improvements**: Invest in R&D aimed at improving camera technology and processor capabilities for future models to meet customer expectations and keep up with competitors.\\n- **Customer Engagement**: Actively seek and respond to customer feedback regarding both satisfaction and desired features. Offering customer service support for setup and common issues might enhance brand loyalty.\\n- **Bundled Offers**: Consider bundling accessories like external cameras or additional storage with the laptops to mitigate identified pain points and enhance the overall value offered to customers.\\n- **Educational Discounts**: Implement discounts or promotions targeted towards students and educational institutions to boost sales among college and middle school users.\\n\\nBy addressing these insights and recommendations, the business can improve its product offerings and better align with customer needs, ultimately driving sales and customer satisfaction.',\n",
       " 'source_documents': [Document(id='2759', metadata={'source': 'data/1429_1_sampled.csv'}, page_content='reviews.text: I purchased this laptop for my son and he was able to set it up himself. I recorded and helped him with passwords and documenting. Speed of the computer is average for basic web browsing and running programs. Memory seemed to hold its own and he was able to jump from different programs. With it being an i3 and basic memory, I explained to him how restarting it once a day would keep the speed up. He has enjoyed and used it on a daily basis with no issues.'),\n",
       "  Document(id='4122', metadata={'source': 'data/1429_1_sampled.csv'}, page_content='reviews.text: Gave it as a gift to a middle schooler. He loved it. Light, good monitor and decent speed.\\nreviews.title: Dependable and sleek\\nreviews.userCity: \\nreviews.userProvince: \\nreviews.username: NerdDad'),\n",
       "  Document(id='14872', metadata={'source': 'data/1429_1_sampled.csv'}, page_content='use my laptop. The speed is zippy & the screen clarity/quality is good enough. Storage is even better than ipads since it is expandable (for now I use a 64 gb card giving me a total of 96 gb, but the expandable can go up to 200 gb). Tying into Amazon is nice since I have Amazon Prime). Basic web surfing, email & facebook work great. The only \"bad\" feature is the camera & video quality. But that does not matter to me since I have my high quality camera & video recorder on my phone. Only other')]}"
      ]
     },
     "execution_count": 25,
     "metadata": {},
     "output_type": "execute_result"
    }
   ],
   "source": [
    "result"
   ]
  },
  {
   "cell_type": "markdown",
   "metadata": {},
   "source": [
    "#### Now we can update the prompt, we dont have to run the embeddings as I wil push the embeddings and u can access it via the pinecone api keys"
   ]
  },
  {
   "cell_type": "markdown",
   "metadata": {},
   "source": [
    "## Thank You"
   ]
  }
 ],
 "metadata": {
  "kernelspec": {
   "display_name": ".venv",
   "language": "python",
   "name": "python3"
  },
  "language_info": {
   "codemirror_mode": {
    "name": "ipython",
    "version": 3
   },
   "file_extension": ".py",
   "mimetype": "text/x-python",
   "name": "python",
   "nbconvert_exporter": "python",
   "pygments_lexer": "ipython3",
   "version": "3.10.11"
  }
 },
 "nbformat": 4,
 "nbformat_minor": 2
}
